{
  "nbformat": 4,
  "nbformat_minor": 0,
  "metadata": {
    "colab": {
      "provenance": []
    },
    "kernelspec": {
      "name": "python3",
      "display_name": "Python 3"
    },
    "language_info": {
      "name": "python"
    }
  },
  "cells": [
    {
      "cell_type": "markdown",
      "source": [
        "###<font color = 'bisque'> Introduction à Pandas"
      ],
      "metadata": {
        "id": "ZSdAsLN1v1Fe"
      }
    },
    {
      "cell_type": "markdown",
      "source": [
        "Pandas est une bibliothèque Python renommée, offrant des structures de données flexibles et des outils d’analyse de données efficaces. Elle est particulièrement adaptée au traitement des données financières et est très prisée des analystes financiers. Pandas fonctionne sur la plateforme NumPy, un pilier des calculs scientifiques en Python."
      ],
      "metadata": {
        "id": "nh9z23Zcv381"
      }
    },
    {
      "cell_type": "markdown",
      "source": [
        "###<font color = 'bisque'>Installing and Importing Pandas"
      ],
      "metadata": {
        "id": "P5jRecXUwTsC"
      }
    },
    {
      "cell_type": "code",
      "execution_count": null,
      "metadata": {
        "id": "pGHKbw27rQNv"
      },
      "outputs": [],
      "source": [
        "# !pip install pandas"
      ]
    },
    {
      "cell_type": "code",
      "source": [
        "# importer pandas\n"
      ],
      "metadata": {
        "id": "GMJufsLhwgyg"
      },
      "execution_count": null,
      "outputs": []
    },
    {
      "cell_type": "markdown",
      "source": [
        "###<font color = 'bisque'>DataFrame et Series"
      ],
      "metadata": {
        "id": "2TUMEZxKwl3f"
      }
    },
    {
      "cell_type": "markdown",
      "source": [
        "Au cœur de Pandas se trouvent les objets DataFrame et Series. Un DataFrame est un tableau de données bidimensionnel, ressemblant à une table de base de données ou à une feuille Excel. Une Series, quant à elle, est un tableau unidimensionnel, semblable à une liste ou à une colonne dans un DataFrame. Les deux possèdent des Index qui, s'ils ne sont pas spécifiés, sont par défaut des nombres de 0 à la taille du jeu de données, attribuant ainsi un index à chaque ligne."
      ],
      "metadata": {
        "id": "ssjuHncdwyAb"
      }
    },
    {
      "cell_type": "markdown",
      "source": [
        "![pandas_dataframe65415_091e4118ff.png](data:image/png;base64,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)"
      ],
      "metadata": {
        "id": "-D0ra0kew4SI"
      }
    },
    {
      "cell_type": "code",
      "source": [
        "# dictionnaire de données\n",
        "data = {\n",
        "    \"date\": [\"2022-01-01\", \"2022-01-02\", \"2022-01-03\", \"2022-01-04\", \"2022-01-05\", \"2022-01-06\", \"2022-01-07\"],\n",
        "    \"open\": [100.0, 101.0, 102.0, 103.0, 104.0, 105.0, 106.0],\n",
        "    \"close\" : [150.0, 151.0, 152.0, 153.0, 154.0, 155.0, 156.0],\n",
        "    \"volume\": [1000, 1200, 1300, 1250, 1100, 1250, 1350]\n",
        "}\n",
        "# stocker les données dans un dataframe\n",
        "\n",
        "# Afficher le dataframe\n"
      ],
      "metadata": {
        "id": "O_V7fKD-wnMU"
      },
      "execution_count": null,
      "outputs": []
    },
    {
      "cell_type": "markdown",
      "source": [
        "####<font color = 'tomato'> Quelques fonctionnalités utiles"
      ],
      "metadata": {
        "id": "ga__xY83UBDo"
      }
    },
    {
      "cell_type": "code",
      "source": [
        "# dimension des données\n"
      ],
      "metadata": {
        "id": "RfycxJs9UI1S"
      },
      "execution_count": null,
      "outputs": []
    },
    {
      "cell_type": "code",
      "source": [
        "# infos des données\n"
      ],
      "metadata": {
        "id": "flMVV90eUIxK"
      },
      "execution_count": null,
      "outputs": []
    },
    {
      "cell_type": "markdown",
      "source": [
        "####<font color = 'tomato'> Selection de lignes ou colonnes (slicing)"
      ],
      "metadata": {
        "id": "I97CbEH-xWaT"
      }
    },
    {
      "cell_type": "code",
      "source": [
        "# Sélection directe\n",
        "\n",
        "# sélection de colones avec loc ou iloc\n",
        "\n",
        "# sélection de lignes avec loc ou iloc\n"
      ],
      "metadata": {
        "id": "zz_PPJ79xRAl"
      },
      "execution_count": null,
      "outputs": []
    },
    {
      "cell_type": "code",
      "source": [
        "# Sélection par condition\n"
      ],
      "metadata": {
        "id": "1bznB1d-xg8t"
      },
      "execution_count": null,
      "outputs": []
    },
    {
      "cell_type": "markdown",
      "source": [
        "###<font color = 'bisque'> Lecture des données à partir de fichiers CSV ou Excel"
      ],
      "metadata": {
        "id": "kvOrE7cJxkvW"
      }
    },
    {
      "cell_type": "markdown",
      "source": [
        "Les données financières sont généralement stockées dans des fichiers CSV ou Excel. Les CSV sont des données tabulées où les entrées sont séparées par des virgules ou d'autres délimiteurs. Pandas simplifie le processus de lecture de ces fichiers dans des DataFrames :"
      ],
      "metadata": {
        "id": "-Oh5DVAJxrA9"
      }
    },
    {
      "cell_type": "markdown",
      "source": [
        "![pandas8484_742250827b.png](data:image/png;base64,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)"
      ],
      "metadata": {
        "id": "vVFp6nF4x1aI"
      }
    },
    {
      "cell_type": "code",
      "source": [
        "# importer les données\n"
      ],
      "metadata": {
        "id": "cWs4ar3OxmC0"
      },
      "execution_count": null,
      "outputs": []
    },
    {
      "cell_type": "markdown",
      "source": [
        "| **Variable**           | **Description (FR)**                                                                 |\n",
        "| ---------------------- | ------------------------------------------------------------------------------------ |\n",
        "| `TransactionId`        | Identifiant unique de la transaction sur la plateforme                               |\n",
        "| `BatchId`              | Numéro unique attribué à un lot de transactions pour le traitement                   |\n",
        "| `AccountId`            | Numéro unique identifiant le client sur la plateforme                                |\n",
        "| `SubscriptionId`       | Numéro unique identifiant l’abonnement du client                                     |\n",
        "| `CustomerId`           | Identifiant unique attaché au compte                                                 |\n",
        "| `CurrencyCode`         | Devise du pays                                                                       |\n",
        "| `CountryCode`          | Code géographique numérique du pays                                                  |\n",
        "| `ProviderId`           | Fournisseur source de l’article acheté                                               |\n",
        "| `ProductId`            | Nom de l’article acheté                                                              |\n",
        "| `ProductCategory`      | Les ProductId sont regroupés dans ces grandes catégories de produits                 |\n",
        "| `ChannelId`            | Indique si le client a utilisé le web, Android, iOS, le paiement différé ou checkout |\n",
        "| `Amount`               | Valeur de la transaction. Positive pour les débits, négative pour les crédits        |\n",
        "| `Value`                | Valeur absolue du montant                                                            |\n",
        "| `TransactionStartTime` | Heure de début de la transaction                                                     |\n",
        "| `PricingStrategy`      | Catégorie de la structure tarifaire de Xente pour les marchands                      |\n"
      ],
      "metadata": {
        "id": "T1WuhHMUhpS1"
      }
    },
    {
      "cell_type": "code",
      "source": [
        "# Afficher les données en utilisant head ou tail\n"
      ],
      "metadata": {
        "id": "aThrK5RW2sB6"
      },
      "execution_count": null,
      "outputs": []
    },
    {
      "cell_type": "code",
      "source": [
        "# dimension des données\n"
      ],
      "metadata": {
        "id": "gsIz5daFNDLa"
      },
      "execution_count": null,
      "outputs": []
    },
    {
      "cell_type": "code",
      "source": [
        "# infos des données\n"
      ],
      "metadata": {
        "id": "sSSHhMWeNG79"
      },
      "execution_count": null,
      "outputs": []
    },
    {
      "cell_type": "markdown",
      "source": [
        "###<font color = 'bisque'>Exploration et prepartion des données"
      ],
      "metadata": {
        "id": "DtNKFCtwyxOC"
      }
    },
    {
      "cell_type": "markdown",
      "source": [
        "La colonne time contient des nombres très grands.Il s'agit de dates au format timestamp. Les nombres représentent les secondes écoulées depuis 1970. Heureusement, pandas dispose d'une méthode pour convertir ces nombres en dates :"
      ],
      "metadata": {
        "id": "bzFr2PAmQuwe"
      }
    },
    {
      "cell_type": "code",
      "source": [
        "# convertir la variable TransactionStartTime\n",
        "df[\"TransactionStartTime\"] = pd.to_datetime(df[\"TransactionStartTime\"], unit ='s' )\n",
        "df.head()"
      ],
      "metadata": {
        "id": "AfQgEGzbQX2d"
      },
      "execution_count": null,
      "outputs": []
    },
    {
      "cell_type": "code",
      "source": [
        "# récupérer la date, l'heure, le jour et le mois des transactions\n",
        "df['Date'] = df['TransactionStartTime'].dt.date\n",
        "df['Hour'] = df['TransactionStartTime'].dt.hour\n",
        "df['Day'] = df['TransactionStartTime'].dt.day\n",
        "df['Month'] = df['TransactionStartTime'].dt.month"
      ],
      "metadata": {
        "id": "MmF979L_0u8V"
      },
      "execution_count": null,
      "outputs": []
    },
    {
      "cell_type": "markdown",
      "source": [
        "Maintenant que les dates sont lisibles, nous pouvons remplacer nos index par défaut (1, 2, 3…). Une fois cela fait, nous n'aurons plus besoin de notre colonne TransactionStartTime et pourrons la supprimer."
      ],
      "metadata": {
        "id": "Gs7hpd3JpnRG"
      }
    },
    {
      "cell_type": "code",
      "source": [
        "# remplacer les index par la date\n",
        "\n",
        "# supprimer la colonne TransactionStartTime\n"
      ],
      "metadata": {
        "id": "wrX3BJJXqfk3"
      },
      "execution_count": null,
      "outputs": []
    },
    {
      "cell_type": "code",
      "source": [
        "# sélectionner les variables quantitatives\n"
      ],
      "metadata": {
        "id": "WEaR-_jK0Zx-"
      },
      "execution_count": null,
      "outputs": []
    },
    {
      "cell_type": "code",
      "source": [
        "# analyse descriptive des variables quantitatives\n"
      ],
      "metadata": {
        "id": "qDepX--DS6wb"
      },
      "execution_count": null,
      "outputs": []
    },
    {
      "cell_type": "markdown",
      "source": [
        "La variable CountryCode n'a qu'une seule variable."
      ],
      "metadata": {
        "id": "yYWB0B5Ox9f2"
      }
    },
    {
      "cell_type": "code",
      "source": [
        "# supprimer la variable CountryCode\n"
      ],
      "metadata": {
        "id": "b9bpMO8xx8ro"
      },
      "execution_count": null,
      "outputs": []
    },
    {
      "cell_type": "code",
      "source": [
        "# sélectionner les variables catégorielles\n"
      ],
      "metadata": {
        "id": "5dYM2CrdCb6-"
      },
      "execution_count": null,
      "outputs": []
    },
    {
      "cell_type": "code",
      "source": [
        "# analyse descriptive des variables catégorielles\n"
      ],
      "metadata": {
        "id": "9te4SsUQOdpi"
      },
      "execution_count": null,
      "outputs": []
    },
    {
      "cell_type": "code",
      "source": [
        "# Supprimer la variable TransactionId et CurrencyCode\n"
      ],
      "metadata": {
        "id": "7NNRSFs_0Nli"
      },
      "execution_count": null,
      "outputs": []
    },
    {
      "cell_type": "code",
      "source": [
        "# Nombre d'observations de chaque catégorie de la variable ProductCategory\n"
      ],
      "metadata": {
        "id": "3hqyt2yGzI29"
      },
      "execution_count": null,
      "outputs": []
    },
    {
      "cell_type": "code",
      "source": [
        "# somme des revenus par ProductCategory en utilisant groupby\n",
        "revenue_per_category_s = df.groupby('ProductCategory')['Value'].sum().sort_values(ascending=False)\n",
        "# moyenne des revenus par ProductCategory\n",
        "revenue_per_category_m = df.groupby('ProductCategory')['Value'].mean().sort_values(ascending=False)"
      ],
      "metadata": {
        "id": "qdQbO5AWs3vf"
      },
      "execution_count": null,
      "outputs": []
    },
    {
      "cell_type": "code",
      "source": [
        "# transactions par jour\n",
        "transactions_per_day = df.groupby('Date').size()\n",
        "transactions_per_day"
      ],
      "metadata": {
        "id": "BTHTsm--HgHV"
      },
      "execution_count": null,
      "outputs": []
    },
    {
      "cell_type": "code",
      "source": [
        "# Revenus globaux\n"
      ],
      "metadata": {
        "id": "rBmtxijLdbQI"
      },
      "execution_count": null,
      "outputs": []
    },
    {
      "cell_type": "code",
      "source": [
        "# Transactions rentables vs non rentables\n"
      ],
      "metadata": {
        "id": "6Q-7Fbm6eTPx"
      },
      "execution_count": null,
      "outputs": []
    },
    {
      "cell_type": "code",
      "source": [
        "# Marge brute par transaction\n"
      ],
      "metadata": {
        "id": "WZIDBuKBeUAX"
      },
      "execution_count": null,
      "outputs": []
    },
    {
      "cell_type": "code",
      "source": [
        "#  Marge brute totale par catégorie\n"
      ],
      "metadata": {
        "id": "ArNqN4eLejbz"
      },
      "execution_count": null,
      "outputs": []
    },
    {
      "cell_type": "code",
      "source": [
        "# Marge moyenne par mois\n"
      ],
      "metadata": {
        "id": "X_AOHaZWeryO"
      },
      "execution_count": null,
      "outputs": []
    },
    {
      "cell_type": "code",
      "source": [
        "# Taux de rentabilité par catégorie\n"
      ],
      "metadata": {
        "id": "nX5l_SsWe6E7"
      },
      "execution_count": null,
      "outputs": []
    },
    {
      "cell_type": "code",
      "source": [
        "# Analyse des remboursements ou transactions à perte\n"
      ],
      "metadata": {
        "id": "QG6vtlYFfAvj"
      },
      "execution_count": null,
      "outputs": []
    },
    {
      "cell_type": "code",
      "source": [
        "# Clients les plus rentables\n"
      ],
      "metadata": {
        "id": "a0i2zQXeBwCg"
      },
      "execution_count": null,
      "outputs": []
    },
    {
      "cell_type": "markdown",
      "source": [
        "###<font color = 'bisque'> Maîtriser vos Données"
      ],
      "metadata": {
        "id": "UM4v0XzXL22p"
      }
    },
    {
      "cell_type": "markdown",
      "source": [
        "\n",
        "Pour cet exercice, nous allons analyser des données liées au tragique voyage du Titanic. Vous pouvez trouver un fichier CSV représentant chacun des passagers du Titanic, incluant leurs noms, sexes, classes (Pclass), âges et d'autres informations ici :"
      ],
      "metadata": {
        "id": "snH7fhEzL3vz"
      }
    },
    {
      "cell_type": "markdown",
      "source": [
        "*********************************************************************\n",
        "Commencez par télécharger le fichier CSV. Placez-le dans le répertoire de votre projet, importez Pandas, et chargez le CSV dans un DataFrame :"
      ],
      "metadata": {
        "id": "6XNKUgOJMgPx"
      }
    },
    {
      "cell_type": "code",
      "source": [
        "# Importer les données\n",
        "df = pd.read_csv('TITANIC.csv')"
      ],
      "metadata": {
        "id": "SfhHMnJGL3Nr"
      },
      "execution_count": null,
      "outputs": []
    },
    {
      "cell_type": "markdown",
      "source": [
        "####<font color = 'tomato'> Questions"
      ],
      "metadata": {
        "id": "lnJlSFZPM50P"
      }
    },
    {
      "cell_type": "markdown",
      "source": [
        "1. Afficher les dix premières lignes du jeu de données pour en avoir un aperçu.\n",
        "\n",
        "2. Déterminer les dimensions du jeu de données (c’est-à-dire le nombre de lignes et de colonnes).\n",
        "\n",
        "3. Compter le nombre de passagers dans chaque classe (Pclass).\n",
        "\n",
        "4. Calculer l'âge moyen des passagers. Identifier le passager le plus jeune et le plus âgé par leur nom.\n",
        "\n",
        "5. Déterminer combien de passagers ont survécu et combien sont décédés.\n",
        "\n",
        "6. Compter le nombre de passagers masculins et féminins à bord du Titanic.\n",
        "\n",
        "7. Combien d’hommes et de femmes ont survécu ?\n",
        "\n",
        "8. Quel est le taux de survie par classe ?\n",
        "\n",
        "9. Ajouter une nouvelle colonne 'FamilySize' qui additionne les colonnes SibSp (nombre de frères/sœurs/époux à bord) et Parch (nombre de parents/enfants à bord).\n",
        "\n",
        "10. Identifier le passager décédé ayant la plus grande famille à bord."
      ],
      "metadata": {
        "id": "x8qK6CIhM7My"
      }
    },
    {
      "cell_type": "code",
      "source": [],
      "metadata": {
        "id": "aBzOw70GM6qU"
      },
      "execution_count": null,
      "outputs": []
    }
  ]
}
