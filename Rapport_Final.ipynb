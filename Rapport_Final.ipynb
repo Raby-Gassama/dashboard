{
 "cells": [
  {
   "cell_type": "markdown",
   "id": "7555d685",
   "metadata": {},
   "source": [
    "# Rapport Final - Data Exploration & Visualisations\n",
    "Ce notebook présente l'exploration graphique des datasets Titanic et Transactions, prêt à être exécuté sur Google Colab ou Jupyter."
   ]
  },
  {
   "cell_type": "markdown",
   "id": "4beeb8b8",
   "metadata": {},
   "source": [
    "## 1. Dataset Titanic\n",
    "Nettoyage appliqué et visualisations"
   ]
  },
  {
   "cell_type": "code",
   "execution_count": null,
   "id": "0e92e4b0",
   "metadata": {},
   "outputs": [],
   "source": [
    "import pandas as pd\n",
    "import matplotlib.pyplot as plt\n",
    "import numpy as np\n",
    "\n",
    "# Chargement et nettoyage\n",
    "df = pd.read_csv('TITANIC.csv')\n",
    "df['Age'] = df['Age'].fillna(df.groupby(['Sex','Pclass'])['Age'].transform('median'))\n",
    "df['Deck'] = df['Cabin'].str[0].fillna('Unknown')\n",
    "df['Embarked'] = df['Embarked'].fillna(df['Embarked'].mode()[0])\n",
    "\n",
    "# 1. Distribution des âges\n",
    "plt.hist(df['Age'], bins=30)\n",
    "plt.title('Distribution des âges')\n",
    "plt.xlabel('Âge')\n",
    "plt.ylabel('Fréquence')\n",
    "plt.show()"
   ]
  },
  {
   "cell_type": "code",
   "execution_count": null,
   "id": "6809de69",
   "metadata": {},
   "outputs": [],
   "source": [
    "# 2. Passagers par classe\n",
    "counts = df['Pclass'].value_counts().sort_index()\n",
    "plt.bar(counts.index.astype(str), counts.values)\n",
    "plt.title('Nombre de passagers par classe')\n",
    "plt.xlabel('Classe')\n",
    "plt.ylabel('Nombre')\n",
    "plt.show()"
   ]
  },
  {
   "cell_type": "code",
   "execution_count": null,
   "id": "c9ef7215",
   "metadata": {},
   "outputs": [],
   "source": [
    "# 3. Taux de survie par classe\n",
    "rates = df.groupby('Pclass')['Survived'].mean()*100\n",
    "plt.bar(rates.index.astype(str), rates.values)\n",
    "plt.title('Taux de survie par classe (%)')\n",
    "plt.xlabel('Classe')\n",
    "plt.ylabel('Taux de survie')\n",
    "plt.show()"
   ]
  },
  {
   "cell_type": "code",
   "execution_count": null,
   "id": "26369e25",
   "metadata": {},
   "outputs": [],
   "source": [
    "# 4. Tarif par classe\n",
    "data = [df[df['Pclass']==c]['Fare'] for c in sorted(df['Pclass'].unique())]\n",
    "plt.boxplot(data, labels=[str(c) for c in sorted(df['Pclass'].unique())])\n",
    "plt.title('Distribution des tarifs par classe')\n",
    "plt.xlabel('Classe')\n",
    "plt.ylabel('Fare')\n",
    "plt.show()"
   ]
  },
  {
   "cell_type": "code",
   "execution_count": null,
   "id": "607b2eca",
   "metadata": {},
   "outputs": [],
   "source": [
    "# 5. Survivants vs Décédés par sexe\n",
    "counts = df.groupby('Sex')['Survived'].value_counts().unstack(fill_value=0)\n",
    "x = np.arange(len(counts))\n",
    "plt.bar(x-0.2, counts[0], 0.4, label='Décédés')\n",
    "plt.bar(x+0.2, counts[1], 0.4, label='Survivants')\n",
    "plt.xticks(x, counts.index)\n",
    "plt.title('Survivants vs Décédés par sexe')\n",
    "plt.xlabel('Sexe')\n",
    "plt.ylabel('Nombre')\n",
    "plt.legend()\n",
    "plt.show()"
   ]
  },
  {
   "cell_type": "markdown",
   "id": "662992ed",
   "metadata": {},
   "source": [
    "## 2. Dataset Transactions\n",
    "Nettoyage appliqué et visualisations"
   ]
  },
  {
   "cell_type": "code",
   "execution_count": null,
   "id": "950c5819",
   "metadata": {},
   "outputs": [],
   "source": [
    "import pandas as pd\n",
    "import matplotlib.pyplot as plt\n",
    "import numpy as np\n",
    "\n",
    "# Chargement et nettoyage\n",
    "df2 = pd.read_csv('Transactions_data_complet.csv', parse_dates=['TransactionStartTime'])\n",
    "df2['TransactionStartTime'] = pd.to_datetime(df2['TransactionStartTime'], errors='coerce')\n",
    "\n",
    "# 1. Histogramme du montant (linéaire)\n",
    "plt.hist(df2['Amount'], bins=50)\n",
    "plt.title('Distribution du montant (linéaire)')\n",
    "plt.xlabel('Montant')\n",
    "plt.ylabel('Fréquence')\n",
    "plt.show()"
   ]
  },
  {
   "cell_type": "code",
   "execution_count": null,
   "id": "05df7282",
   "metadata": {},
   "outputs": [],
   "source": [
    "# 2. Histogramme du montant (log)\n",
    "plt.hist(df2['Amount'], bins=50)\n",
    "plt.xscale('log')\n",
    "plt.title('Distribution du montant (log)')\n",
    "plt.xlabel('Montant (log)')\n",
    "plt.ylabel('Fréquence')\n",
    "plt.show()"
   ]
  },
  {
   "cell_type": "code",
   "execution_count": null,
   "id": "4f86b033",
   "metadata": {},
   "outputs": [],
   "source": [
    "# 3. Transactions par statut de fraude\n",
    "counts = df2['FraudResult'].value_counts()\n",
    "plt.bar(counts.index.astype(str), counts.values)\n",
    "plt.title('Transactions par statut de fraude')\n",
    "plt.xlabel('Fraude (0=non, 1=oui)')\n",
    "plt.ylabel('Nombre')\n",
    "plt.show()"
   ]
  },
  {
   "cell_type": "code",
   "execution_count": null,
   "id": "439314da",
   "metadata": {},
   "outputs": [],
   "source": [
    "# 4. Taux de fraude par canal\n",
    "ct = pd.crosstab(df2['ChannelId'], df2['FraudResult'], normalize='index')*100\n",
    "for col in ct.columns:\n",
    "    plt.bar(ct.index, ct[col], label=f'FraudResult={col}')\n",
    "plt.xticks(rotation=45)\n",
    "plt.title('Taux de fraude par ChannelId (%)')\n",
    "plt.xlabel('ChannelId')\n",
    "plt.ylabel('Taux (%)')\n",
    "plt.legend()\n",
    "plt.show()"
   ]
  },
  {
   "cell_type": "code",
   "execution_count": null,
   "id": "6e653148",
   "metadata": {},
   "outputs": [],
   "source": [
    "# 5. Heatmap de corrélation\n",
    "corr = df2.select_dtypes(include=[np.number]).corr()\n",
    "plt.imshow(corr, interpolation='nearest')\n",
    "plt.colorbar()\n",
    "plt.xticks(range(len(corr.columns)), corr.columns, rotation=90)\n",
    "plt.title('Corrélation variables numériques')\n",
    "plt.show()"
   ]
  },
  {
   "cell_type": "code",
   "execution_count": null,
   "id": "f73bd537",
   "metadata": {},
   "outputs": [],
   "source": [
    "# 6. Boxplot par catégorie\n",
    "cats = df2['ProductCategory'].unique()\n",
    "data = [df2[df2['ProductCategory']==c]['Amount'] for c in cats]\n",
    "plt.boxplot(data, labels=cats)\n",
    "plt.xticks(rotation=45)\n",
    "plt.title('Montant par catégorie de produit')\n",
    "plt.xlabel('Catégorie')\n",
    "plt.ylabel('Montant')\n",
    "plt.show()"
   ]
  },
  {
   "cell_type": "code",
   "execution_count": null,
   "id": "4ee4d950",
   "metadata": {},
   "outputs": [],
   "source": [
    "# 7. Transactions par jour\n",
    "df2['Date'] = df2['TransactionStartTime'].dt.date\n",
    "ts = df2.groupby('Date').size()\n",
    "plt.plot(ts.index, ts.values)\n",
    "plt.xticks(rotation=45)\n",
    "plt.title('Nombre de transactions par jour')\n",
    "plt.xlabel('Date')\n",
    "plt.ylabel('Nombre')\n",
    "plt.show()"
   ]
  }
 ],
 "metadata": {},
 "nbformat": 4,
 "nbformat_minor": 5
}
