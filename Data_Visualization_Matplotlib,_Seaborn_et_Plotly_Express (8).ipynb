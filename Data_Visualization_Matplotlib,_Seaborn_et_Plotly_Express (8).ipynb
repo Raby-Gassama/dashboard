{
  "nbformat": 4,
  "nbformat_minor": 0,
  "metadata": {
    "colab": {
      "provenance": []
    },
    "kernelspec": {
      "name": "python3",
      "display_name": "Python 3"
    },
    "language_info": {
      "name": "python"
    }
  },
  "cells": [
    {
      "cell_type": "markdown",
      "source": [
        "###<font color = 'bisque'> Import des packages"
      ],
      "metadata": {
        "id": "_WGu28wYUPhP"
      }
    },
    {
      "cell_type": "code",
      "source": [
        "# importer les packages\n",
        "import pandas as pd\n",
        "import matplotlib.pyplot as plt\n",
        "import seaborn as sns\n",
        "import plotly.express as px"
      ],
      "metadata": {
        "id": "rFRjmMDJUDei"
      },
      "execution_count": null,
      "outputs": []
    },
    {
      "cell_type": "markdown",
      "source": [
        "###<font color = 'bisque'> Lecture des données"
      ],
      "metadata": {
        "id": "kvOrE7cJxkvW"
      }
    },
    {
      "cell_type": "code",
      "source": [
        "# importer les données\n"
      ],
      "metadata": {
        "id": "cWs4ar3OxmC0"
      },
      "execution_count": null,
      "outputs": []
    },
    {
      "cell_type": "markdown",
      "source": [
        "| **Variable**           | **Description (FR)**                                                                 |\n",
        "| ---------------------- | ------------------------------------------------------------------------------------ |\n",
        "| `TransactionId`        | Identifiant unique de la transaction sur la plateforme                               |\n",
        "| `BatchId`              | Numéro unique attribué à un lot de transactions pour le traitement                   |\n",
        "| `AccountId`            | Numéro unique identifiant le client sur la plateforme                                |\n",
        "| `SubscriptionId`       | Numéro unique identifiant l’abonnement du client                                     |\n",
        "| `CustomerId`           | Identifiant unique attaché au compte                                                 |\n",
        "| `CurrencyCode`         | Devise du pays                                                                       |\n",
        "| `CountryCode`          | Code géographique numérique du pays                                                  |\n",
        "| `ProviderId`           | Fournisseur source de l’article acheté                                               |\n",
        "| `ProductId`            | Nom de l’article acheté                                                              |\n",
        "| `ProductCategory`      | Les ProductId sont regroupés dans ces grandes catégories de produits                 |\n",
        "| `ChannelId`            | Indique si le client a utilisé le web, Android, iOS, le paiement différé ou checkout |\n",
        "| `Amount`               | Valeur de la transaction. Positive pour les débits, négative pour les crédits        |\n",
        "| `Value`                | Valeur absolue du montant                                                            |\n",
        "| `TransactionStartTime` | Heure de début de la transaction                                                     |\n",
        "| `PricingStrategy`      | Catégorie de la structure tarifaire de Xente pour les marchands                      |\n"
      ],
      "metadata": {
        "id": "T1WuhHMUhpS1"
      }
    },
    {
      "cell_type": "code",
      "source": [
        "# Afficher les données en utilisant head ou tail\n"
      ],
      "metadata": {
        "id": "aThrK5RW2sB6"
      },
      "execution_count": null,
      "outputs": []
    },
    {
      "cell_type": "code",
      "source": [
        "# dimension des données\n"
      ],
      "metadata": {
        "id": "gsIz5daFNDLa"
      },
      "execution_count": null,
      "outputs": []
    },
    {
      "cell_type": "code",
      "source": [
        "# infos des données\n"
      ],
      "metadata": {
        "id": "sSSHhMWeNG79"
      },
      "execution_count": null,
      "outputs": []
    },
    {
      "cell_type": "markdown",
      "source": [
        "###<font color = 'bisque'>Exploration des données avec Matplolib, Seaborn et Plotly Express"
      ],
      "metadata": {
        "id": "gzVifaxLUo1O"
      }
    },
    {
      "cell_type": "markdown",
      "source": [
        "1. Analyse des volumes de transactions"
      ],
      "metadata": {
        "id": "V1u64mC1VHfz"
      }
    },
    {
      "cell_type": "code",
      "source": [
        "# Transactions par jour\n",
        "transactions_per_day = df.groupby('Date').size()"
      ],
      "metadata": {
        "id": "Wa27EIzfS0kr"
      },
      "execution_count": null,
      "outputs": []
    },
    {
      "cell_type": "code",
      "source": [
        "plt.figure(figsize=(14, 5))\n",
        "transactions_per_day.plot()\n",
        "plt.title(\"Nombre de transactions par jour\")\n",
        "plt.xlabel(\"Date\")\n",
        "plt.ylabel(\"Nombre de transactions\")\n",
        "plt.show()"
      ],
      "metadata": {
        "id": "MBFWdHrFQjBq"
      },
      "execution_count": null,
      "outputs": []
    },
    {
      "cell_type": "code",
      "source": [
        "# Transactions par heure\n",
        "plt.figure(figsize=(10, 5))\n",
        "sns.countplot(data=df, x='Hour', color='skyblue')\n",
        "plt.title(\"Répartition des transactions par heure\")\n",
        "plt.xlabel(\"Heure\")\n",
        "plt.ylabel(\"Nombre de transactions\")\n",
        "plt.show()"
      ],
      "metadata": {
        "id": "oy_PKTsVQwju"
      },
      "execution_count": null,
      "outputs": []
    },
    {
      "cell_type": "code",
      "source": [
        "# Transactions par canal (pie chart)\n",
        "channel_counts = df['ChannelId'].value_counts().reset_index()\n",
        "channel_counts.columns = ['ChannelId', 'Count']"
      ],
      "metadata": {
        "id": "oeoQbU90TZTR"
      },
      "execution_count": null,
      "outputs": []
    },
    {
      "cell_type": "code",
      "source": [
        "fig = px.pie(channel_counts, names='ChannelId', values='Count',\n",
        "             title=\"Répartition des transactions par canal\")\n",
        "fig.show()"
      ],
      "metadata": {
        "id": "aBzOw70GM6qU"
      },
      "execution_count": null,
      "outputs": []
    },
    {
      "cell_type": "markdown",
      "source": [
        "2. Analyse de la rentabilité"
      ],
      "metadata": {
        "id": "eC9sZaGSVbHT"
      }
    },
    {
      "cell_type": "code",
      "source": [
        "# Taux de rentabilité par ProductCategory\n",
        "rentabilite = df.groupby('ProductCategory')['TauxRentabilité'].mean().sort_values()"
      ],
      "metadata": {
        "id": "rxd0GHycUaEI"
      },
      "execution_count": null,
      "outputs": []
    },
    {
      "cell_type": "code",
      "source": [
        "plt.figure(figsize=(12, 5))\n",
        "rentabilite.plot(kind='barh', color='teal')\n",
        "plt.title(\"Taux de rentabilité moyen par catégorie\")\n",
        "plt.xlabel(\"Taux de rentabilité\")\n",
        "plt.show()"
      ],
      "metadata": {
        "id": "VVKEGp4cRCNQ"
      },
      "execution_count": null,
      "outputs": []
    },
    {
      "cell_type": "code",
      "source": [
        "# Heatmap des corrélations\n",
        "plt.figure(figsize=(8, 5))\n",
        "sns.heatmap(df[['Amount', 'Value', 'MargeBrute', 'TauxRentabilité']].corr(),\n",
        "            annot=True, cmap='coolwarm')\n",
        "plt.title(\"Corrélations entre variables financières\")\n",
        "plt.show()"
      ],
      "metadata": {
        "id": "Dy5FISp-Va0J"
      },
      "execution_count": null,
      "outputs": []
    },
    {
      "cell_type": "markdown",
      "source": [
        "3. Analyse par produit et catégorie"
      ],
      "metadata": {
        "id": "JwS6NftiVjpd"
      }
    },
    {
      "cell_type": "code",
      "source": [
        "# Revenus par catégorie\n",
        "revenue_per_category = df.groupby('ProductCategory')['Value'].sum().sort_values(ascending=False).reset_index()"
      ],
      "metadata": {
        "id": "my82fEVuZ_SJ"
      },
      "execution_count": null,
      "outputs": []
    },
    {
      "cell_type": "code",
      "source": [
        "fig = px.bar(revenue_per_category,\n",
        "             x='ProductCategory', y='Value',\n",
        "             title=\"Revenu total par catégorie de produit\",\n",
        "             color='Value')\n",
        "fig.show()"
      ],
      "metadata": {
        "id": "R2RwJ9FARHCp"
      },
      "execution_count": null,
      "outputs": []
    },
    {
      "cell_type": "markdown",
      "source": [
        "4. Analyse temporelle de la marge"
      ],
      "metadata": {
        "id": "dSBqJPMuVsSO"
      }
    },
    {
      "cell_type": "code",
      "source": [
        "# Marge moyenne par jour\n",
        "marge_par_mois = df.groupby('Day')['MargeBrute'].mean()"
      ],
      "metadata": {
        "id": "Z5I01UVmaJLG"
      },
      "execution_count": null,
      "outputs": []
    },
    {
      "cell_type": "code",
      "source": [
        "plt.figure(figsize=(10, 5))\n",
        "marge_par_mois.plot(marker='o', color='purple')\n",
        "plt.title(\"Marge brute moyenne par jour\")\n",
        "plt.xlabel(\"Jour\")\n",
        "plt.ylabel(\"Marge moyenne (UGX)\")\n",
        "plt.grid(True)\n",
        "plt.show()"
      ],
      "metadata": {
        "id": "RgwKoaA5VsjI"
      },
      "execution_count": null,
      "outputs": []
    },
    {
      "cell_type": "markdown",
      "source": [
        "5. Top contributeurs"
      ],
      "metadata": {
        "id": "moRufPoGVu-h"
      }
    },
    {
      "cell_type": "code",
      "source": [
        "# Top clients\n",
        "top_clients = df.groupby('CustomerId')['MargeBrute'].sum().sort_values(ascending=False).head(10).reset_index()"
      ],
      "metadata": {
        "id": "dgiGXyGyaVos"
      },
      "execution_count": null,
      "outputs": []
    },
    {
      "cell_type": "code",
      "source": [
        "fig = px.bar(top_clients, x='CustomerId', y='MargeBrute',\n",
        "             title=\"Top 10 clients par marge brute\",\n",
        "             text='MargeBrute')\n",
        "fig.show()"
      ],
      "metadata": {
        "id": "yTsRJAxoRKRY"
      },
      "execution_count": null,
      "outputs": []
    },
    {
      "cell_type": "code",
      "source": [
        "# Catégories les plus concernées par les remboursements\n",
        "remboursements = df[df['Amount'] < 0]"
      ],
      "metadata": {
        "id": "0kn8Envlae4T"
      },
      "execution_count": null,
      "outputs": []
    },
    {
      "cell_type": "code",
      "source": [
        "plt.figure(figsize=(10, 5))\n",
        "remboursements['ProductCategory'].value_counts().head(5).plot(kind='bar', color='red')\n",
        "plt.title(\"Catégories avec le plus de remboursements\")\n",
        "plt.xlabel(\"ProductCategory\")\n",
        "plt.ylabel(\"Nombre de remboursements\")\n",
        "plt.show()"
      ],
      "metadata": {
        "id": "_Kr_KREWVxGC"
      },
      "execution_count": null,
      "outputs": []
    },
    {
      "cell_type": "code",
      "source": [],
      "metadata": {
        "id": "j9w6ZHLRcafJ"
      },
      "execution_count": null,
      "outputs": []
    }
  ]
}